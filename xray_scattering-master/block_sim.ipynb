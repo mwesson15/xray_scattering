{
 "cells": [
  {
   "cell_type": "code",
<<<<<<< HEAD
   "execution_count": 2,
   "metadata": {
    "collapsed": true
   },
=======
   "execution_count": 7,
   "metadata": {},
>>>>>>> 344afc99635d87a0f2fb5cf2d249795090312e8b
   "outputs": [],
   "source": [
    "import numpy as np\n",
    "import matplotlib.pyplot as plt\n",
    "from scipy import constants as cst"
   ]
  },
  {
   "cell_type": "code",
<<<<<<< HEAD
   "execution_count": 28,
   "metadata": {
    "collapsed": true
   },
=======
   "execution_count": null,
   "metadata": {},
   "outputs": [],
   "source": [
    "#Need to change index calculations to account for the PML being included in the space matrix"
   ]
  },
  {
   "cell_type": "code",
   "execution_count": 8,
   "metadata": {},
>>>>>>> 344afc99635d87a0f2fb5cf2d249795090312e8b
   "outputs": [],
   "source": [
    "#Set Courant Coefficient\n",
    "s = 2"
   ]
  },
  {
   "cell_type": "code",
<<<<<<< HEAD
   "execution_count": 22,
   "metadata": {
    "collapsed": true
   },
=======
   "execution_count": 9,
   "metadata": {},
>>>>>>> 344afc99635d87a0f2fb5cf2d249795090312e8b
   "outputs": [],
   "source": [
    "#Define cubic Yee Cell by defining delta x in nm\n",
    "delta_x = 1\n",
    "\n",
    "#Define the relative epsilons\n",
    "rel_epsilon_block = 1\n",
    "rel_epsilon_substrate = 1"
   ]
  },
  {
   "cell_type": "code",
<<<<<<< HEAD
   "execution_count": 24,
   "metadata": {
    "collapsed": true
   },
=======
   "execution_count": 10,
   "metadata": {},
>>>>>>> 344afc99635d87a0f2fb5cf2d249795090312e8b
   "outputs": [],
   "source": [
    "#Calculate delta t\n",
    "delta_t = s*delta_x/(1e9*cst.value('speed of light in vacuum'))"
   ]
  },
  {
   "cell_type": "code",
<<<<<<< HEAD
   "execution_count": 30,
   "metadata": {
    "collapsed": true
   },
=======
   "execution_count": 11,
   "metadata": {},
>>>>>>> 344afc99635d87a0f2fb5cf2d249795090312e8b
   "outputs": [],
   "source": [
    "#Check that the Courant Coefficient is small enough\n",
    "#Assumes relative epsilon < 1 to allow for total external reflection\n",
    "def check_s(rel_epsilon, s):\n",
    "    n_min = np.sqrt(rel_epsilon)\n",
    "    s_max = n_min/np.sqrt(3)\n",
    "    if s > s_max:\n",
    "        print('Redefine S')"
   ]
  },
  {
   "cell_type": "code",
   "execution_count": 12,
   "metadata": {},
   "outputs": [
    {
     "name": "stdout",
     "output_type": "stream",
     "text": [
      "fucked up\n"
     ]
    }
   ],
   "source": [
    "#Run the check on the Courant Coefficient\n",
    "s = check_s(rel_epsilon, s)"
   ]
  },
  {
   "cell_type": "code",
   "execution_count": 10,
   "metadata": {
    "collapsed": true
   },
   "outputs": [],
   "source": [
    "#Define Geometry (give dimensions in nm)\n",
    "#Will currently just have empty space above the sample with a given height\n",
    "def make_sample(dim_x, dim_y, dim_z, rel_epsilon, delta_x, vac_height):\n",
    "    #Calculate exact epsilon of sample\n",
    "    epsilon = rel_epsilon*cst.value('electric constant')*1e-27\n",
    "    \n",
    "    #Convert x, y, z, and vacuum height from nm to size(delta x)\n",
    "    x = dim_x/delta_x\n",
    "    y = dim_y/delta_x\n",
    "    z = dim_z/delta_x\n",
    "    vac = vac_height/delta_x\n",
    "    \n",
    "    #Create matrix that stores the epsilon values of each Yee Cell\n",
    "    sample = np.ones((x, y, z))*epsilon\n",
    "    \n",
    "    #Create matrix that stores epsilon value of vacuum Yee Cell\n",
    "    vacuum_eps = np.ones((x, y, vac))*cst.value('electric constant')*1e-27\n",
    "    \n",
    "    #No need to create matrix that stores mu values as we will assume mu=mu_0 at all points\n",
    "    \n",
    "    #Combine the two matrices\n",
    "    space = np.append(vacuum_eps, sample, axis = 0)\n",
    "    #Put in check to make sure this append works properly\n",
    "    \n",
    "    #Create a matrix that stores the possible (x, y, z) values for each electric Yee Cell\n",
    "    #Takes into account the PML\n",
    "    e_values = np.arange(0-(0.02dim_x), (1.02*dim_x)+delta_x, delta_x)\n",
    "\n",
    "    #Create a matrix that stores the possible (x, y, z) values of each magnetic Yee Cell\n",
    "    #Takes into account the PML\n",
    "    h_values = np.arange(delta_x-(0.2dim_x), (1.2*dim_x)+delta_x, delta_x)\n",
    "    \n",
    "    #The origin of the system will be the bottomleft corner due to the way we've created\n",
    "    #the coordinates\n",
    "    \n",
    "    return [space, epsilon, e_values, h_values]"
   ]
  },
  {
   "cell_type": "code",
   "execution_count": null,
   "metadata": {
    "collapsed": true
   },
   "outputs": [],
   "source": [
    "#Define function that allows you to add substrates to surface of block\n",
    "def add_substrate(dim_x, dim_y, dim_z, center, height, rel_epsilon, space, delta_x):\n",
    "    #Only designate the (x,y) coordinates of the center\n",
    "    #Give center coordinates in nm\n",
    "    \n",
    "    #Calculate exact epsilon of substrate\n",
    "    epsilon = rel_epsilon*cst.value('electric constant')*1e-27\n",
    "    \n",
    "    #Construct matrix of substrate\n",
    "    substrate = np.ones((dim_x, dim_y, dim_z))*epsilon\n",
    "    \n",
    "    #Convert center values to indices\n",
    "    center_x = center[0]/delta_x\n",
    "    center_y = center[1]/delta_x\n",
    "    \n",
    "    #Calculate dimensions of substrate in terms of number of indices\n",
    "    x = dim_x/delta_x\n",
    "    y = dim_y/delta_x\n",
    "    z = height/delta_x\n",
    "    \n",
    "    #Calculate the index of the bottom left corner of the substrate\n",
    "    first_x = center_x - (x/2)\n",
    "    first_y = center_y - (y/2)\n",
    "    \n",
    "    \n",
    "    #Add in to the new space\n",
    "    for k in range()\n",
    "    \n",
    "    #Couldn't find suitable numpy command to redefine values in a matrix all at once"
   ]
  },
  {
   "cell_type": "code",
   "execution_count": null,
   "metadata": {},
   "outputs": [],
   "source": [
    "#Define function that returns generic wave equation (E=E_0*sin(kx-omega*t))\n",
    "#Ignore phase\n",
    "#Accepts the x argument in nm\n",
    "def wave(intensity, frequency, x, t):\n",
    "    #Calculate angular frequency\n",
    "    omega = 2*frequency*np.pi\n",
    "    \n",
    "    #Calculate wavevector (wavelength in nm)\n",
    "    wavelength = (cst.value('speed of light in a vacuum')/frequency)*1e9\n",
    "    k = (2*np.pi)/wavelength\n",
    "    \n",
    "    #plug in to equation\n",
    "    E = intensity*np.sin(k*x-omega*t)\n",
    "    \n",
    "    return E"
   ]
  },
  {
   "cell_type": "code",
   "execution_count": null,
   "metadata": {
    "collapsed": true
   },
   "outputs": [],
   "source": [
    "#Define function that converts between E-field magnitude to H-field amplitude\n",
    "def e2h(E):\n",
    "    H = E/(cst.value('speed of light in a vacuum')*1e9)\n",
    "    \n",
    "    return H"
   ]
  },
  {
   "cell_type": "code",
   "execution_count": null,
   "metadata": {
    "collapsed": true
   },
   "outputs": [],
   "source": [
    "#Define function that can convert a vector into a unit vector\n",
    "def unitize_3d(vector):\n",
    "    mag = np.multiply(vector, vector)\n",
    "    coefficient = (np.sum(mag))**0.5\n",
    "    new = coefficient*vector\n",
    "    return new"
   ]
  },
  {
   "cell_type": "code",
   "execution_count": null,
   "metadata": {
    "collapsed": true
   },
   "outputs": [],
   "source": [
    "#Define variables of source (ignore initial phase)\n",
    "\n",
    "#Define frequency (Hz)\n",
    "frequency = \n",
    "\n",
    "#Define location (nm)\n",
    "source_loc = [0, 0, 0]/delta_x\n",
    "\n",
    "#Define velocity (vector)\n",
    "prop_vec = [0, 0, 1]\n",
    "#Normalize vector\n",
    "prop_vec = unitize_3d(prop_vec)\n",
    "\n",
    "#Define amplitude of E field (units)\n",
    "intensity =\n",
    "\n"
   ]
  },
  {
   "cell_type": "code",
   "execution_count": 2,
   "metadata": {
    "collapsed": true
   },
   "outputs": [],
   "source": [
    "\n",
    "#Define boundary\n",
    "def make_boundary(space, absorbing_mat):\n",
    "    space_dim = np.shape(space)\n",
    "    length = space_dim[-1]\n",
    "#     absorbing_mat = ##not sure yet what epsilon value is \n",
    "    boundary_z = np.ones((space_dim[0], space_dim[1], space_dim[2]/50))*absorbing_mat\n",
    "    space = np.append(boundary_z, np.append(space, boundary_z,axis=2), axis=2)\n",
    "    space_dim = np.shape(space)\n",
    "    boundary_x = np.ones((space_dim[0]/50, space_dim[1], space_dim[2]))*absorbing_mat\n",
    "    space = np.append(boundary_x, np.append(space, boundary_x,axis=0), axis=0)\n",
    "    space_dim = np.shape(space)\n",
    "    boundary_y = np.ones((space_dim[0], space_dim[1]/50, space_dim[2]))*absorbing_mat\n",
    "    space = np.append(boundary_y, np.append(space, boundary_y,axis=0), axis=1)\n",
    "    return space\n",
    "    \n",
    "    \n",
    "#Define PMLs"
   ]
  },
  {
   "cell_type": "code",
   "execution_count": null,
   "metadata": {
    "collapsed": true
   },
   "outputs": [],
   "source": [
    "#Set resolution\n",
    "resolution ="
   ]
  },
  {
   "cell_type": "code",
   "execution_count": 1,
   "metadata": {},
   "outputs": [
    {
     "ename": "SyntaxError",
     "evalue": "invalid syntax (<ipython-input-1-0f75f76b8d40>, line 23)",
     "output_type": "error",
     "traceback": [
      "\u001b[0;36m  File \u001b[0;32m\"<ipython-input-1-0f75f76b8d40>\"\u001b[0;36m, line \u001b[0;32m23\u001b[0m\n\u001b[0;31m    H_minus_x =\u001b[0m\n\u001b[0m               ^\u001b[0m\n\u001b[0;31mSyntaxError\u001b[0m\u001b[0;31m:\u001b[0m invalid syntax\n"
     ]
    }
   ],
   "source": [
    "#Define function that calculates the next E values\n",
    "#This function will assume that the data in the sim will be saved as a 4D\n",
    "#matrix with each index corresponding the the (x, y, z, t) values\n",
    "def new_e(data_e, data_h, epsilon_space, delta_t, delta_x, x, y, z, i, e_values, h_values):\n",
    "    #The i input corresponds the to current time iteration\n",
    "    #Only increment this iteration when new values have been calculated for both E and H\n",
    "    \n",
    "    #Determine the index for each coordinate\n",
    "    x_index = np.argwhere(e_values == x)\n",
    "    x_index = np.asscalar(x_index)\n",
    "    \n",
    "    y_index = np.argwhere(e_values == y)\n",
    "    y_index = np.asscalar(y_index)\n",
    "    \n",
    "    z_index = np.argwhere(e_values == z)\n",
    "    z_index = np.asscalar(z_index)\n",
    "    \n",
    "    #Determine the previous E value of this point\n",
    "    prev_e = data_e[x_index, y_index, z_index, i-1]\n",
    "    \n",
    "    #Calculate the surround H values\n",
    "    H_plus_x = data_h\n",
    "    H_minus_x =\n",
    "    \n",
    "    H_plus_y =\n",
    "    H_minus_y =\n",
    "    \n",
    "    H_plus_z =\n",
    "    H_minus_z ="
   ]
  },
  {
   "cell_type": "code",
   "execution_count": null,
   "metadata": {
    "collapsed": true
   },
   "outputs": [],
   "source": [
    "#Define function that calculates the next H values"
   ]
  },
  {
   "cell_type": "code",
   "execution_count": null,
   "metadata": {
    "collapsed": true
   },
   "outputs": [],
   "source": [
    "#Compile simulation"
   ]
  },
  {
   "cell_type": "code",
   "execution_count": null,
   "metadata": {
    "collapsed": true
   },
   "outputs": [],
   "source": [
    "#Run simulation"
   ]
  }
 ],
 "metadata": {
  "kernelspec": {
   "display_name": "Python 3",
   "language": "python",
   "name": "python3"
  },
  "language_info": {
   "codemirror_mode": {
    "name": "ipython",
    "version": 3
   },
   "file_extension": ".py",
   "mimetype": "text/x-python",
   "name": "python",
   "nbconvert_exporter": "python",
   "pygments_lexer": "ipython3",
   "version": "3.6.3"
  }
 },
 "nbformat": 4,
 "nbformat_minor": 2
}
