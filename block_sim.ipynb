{
 "cells": [
  {
   "cell_type": "code",
   "execution_count": 22,
   "metadata": {},
   "outputs": [],
   "source": [
    "import numpy as np\n",
    "import matplotlib.pyplot as plt\n",
    "from scipy import constants as cst"
   ]
  },
  {
   "cell_type": "code",
   "execution_count": 16,
   "metadata": {},
   "outputs": [],
   "source": [
    "#Set Courent Coefficient\n",
    "S = 0.5"
   ]
  },
  {
   "cell_type": "code",
   "execution_count": 17,
   "metadata": {},
   "outputs": [],
   "source": [
    "#Define cubic Yee Cell by defining delta x in nm\n",
    "delta_x = 1"
   ]
  },
  {
   "cell_type": "code",
   "execution_count": 20,
   "metadata": {},
   "outputs": [],
   "source": [
    "#Calculate delta t\n",
    "delta_t = S*delta_x/(1e9*cst.value('speed of light in vacuum'))"
   ]
  },
  {
   "cell_type": "code",
   "execution_count": 10,
   "metadata": {},
   "outputs": [],
   "source": [
    "#Define Geometry (give dimensions in nm)\n",
    "#Will currently just have empty space above the sample with a given height\n",
    "def make_sample(dim_x, dim_y, dim_z, rel_epsilon, delta_x, vac_height):\n",
    "    #Calculate exact epsilon of sample\n",
    "    epsilon = rel_epsilon*cst.value('electric constant')*1e-27\n",
    "    \n",
    "    #Convert x, y, z, and vacuum height from nm to size(delta x)\n",
    "    x = dim_x/delta_x\n",
    "    y = dim_y/delta_x\n",
    "    z = dim_z/delta_x\n",
    "    vac = vac_height/delta_x\n",
    "    \n",
    "    #Create matrix that stores the epsilon values of each Yee Cell\n",
    "    sample = np.ones((x, y, z))*epsilon\n",
    "    \n",
    "    #Create matrix that stores epsilon value of vacuum Yee Cell\n",
    "    vacuum_eps = np.ones((x, y, vac))*cst.value('electric constant')*1e-27\n",
    "    \n",
    "    #No need to create matrix that stores mu values as we will assume mu=mu_0 at all points\n",
    "    \n",
    "    #Combine the two matrices\n",
    "    space = np.append(vacuum_eps, sample, axis = 0)\n",
    "    \n",
    "    return [space, epsilon]"
   ]
  },
  {
   "cell_type": "code",
   "execution_count": null,
   "metadata": {},
   "outputs": [],
   "source": [
    "#Define function that calculates the intensity of the source at each calculated time\n",
    "#Only have it be a wave moving to the right\n",
    "def electric_source(intensity, frequency, delta_t, final_time):\n",
    "    t = 0\n",
    "    omega = 2*frequency*np.pi\n",
    "    E = np.array()\n",
    "    while t <= final_time:\n",
    "        #E=E_0*sin(-omega*t)\n",
    "        F = intensity*np.sin(-1*omega*t)\n",
    "        E = np.append(E, F)\n",
    "        t += delta_t/2\n",
    "    return [E]"
   ]
  },
  {
   "cell_type": "code",
   "execution_count": null,
   "metadata": {},
   "outputs": [],
   "source": [
    "#Define function that can convert a vector into a unit vector\n",
    "def unitize_3d(vector):\n",
    "    mag = np.multiply(vector, vector)\n",
    "    coefficient = (np.sum(mag))**0.5\n",
    "    new = coefficient*vector\n",
    "    return (new)"
   ]
  },
  {
   "cell_type": "code",
   "execution_count": null,
   "metadata": {},
   "outputs": [],
   "source": [
    "#Define variables of source (gonna ignore initial phase)\n",
    "\n",
    "#Define frequency (Hz)\n",
    "frequency = \n",
    "\n",
    "#Define location (nm)\n",
    "source_loc = [0, 0, 0]/delta_x\n",
    "\n",
    "#Define velocity (vector)\n",
    "velocity = [0, 0, 1]\n",
    "#Normal vector\n",
    "velocity = unitize_3d(velocity)\n",
    "\n",
    "#Define amplitde of E field (units)\n",
    "intensity =\n",
    "\n"
   ]
  },
  {
   "cell_type": "code",
   "execution_count": null,
   "metadata": {},
   "outputs": [],
   "source": [
    "#Define point source\n",
    "def make_pt_source(location, center, frequency, amp, direction = [0, 0, 1], space):\n",
    "    #I don't think we need to do anything more except define parameters"
   ]
  },
  {
   "cell_type": "code",
   "execution_count": null,
   "metadata": {},
   "outputs": [],
   "source": [
    "#Define PMLs"
   ]
  },
  {
   "cell_type": "code",
   "execution_count": null,
   "metadata": {},
   "outputs": [],
   "source": [
    "#Set resolution\n",
    "resolution ="
   ]
  },
  {
   "cell_type": "code",
   "execution_count": null,
   "metadata": {},
   "outputs": [],
   "source": [
    "#Define function that calculates the next E values"
   ]
  },
  {
   "cell_type": "code",
   "execution_count": null,
   "metadata": {},
   "outputs": [],
   "source": [
    "#Define function that calculates the next H values"
   ]
  },
  {
   "cell_type": "code",
   "execution_count": null,
   "metadata": {},
   "outputs": [],
   "source": [
    "#Compile simulation"
   ]
  },
  {
   "cell_type": "code",
   "execution_count": null,
   "metadata": {},
   "outputs": [],
   "source": [
    "#Run simulation"
   ]
  }
 ],
 "metadata": {
  "kernelspec": {
   "display_name": "Python 3",
   "language": "python",
   "name": "python3"
  },
  "language_info": {
   "codemirror_mode": {
    "name": "ipython",
    "version": 3
   },
   "file_extension": ".py",
   "mimetype": "text/x-python",
   "name": "python",
   "nbconvert_exporter": "python",
   "pygments_lexer": "ipython3",
   "version": "3.6.2"
  }
 },
 "nbformat": 4,
 "nbformat_minor": 2
}
