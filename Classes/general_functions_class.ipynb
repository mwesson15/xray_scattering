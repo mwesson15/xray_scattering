{
 "cells": [
  {
   "cell_type": "code",
   "execution_count": 1,
   "metadata": {},
   "outputs": [],
   "source": [
    "import numpy as np\n",
    "from scipy import constants as cst"
   ]
  },
  {
   "cell_type": "code",
   "execution_count": 2,
   "metadata": {},
   "outputs": [],
   "source": [
    "class general_functions:\n",
    "    #Define function that normalizes vector\n",
    "    def normalize(vector):\n",
    "        #Calculate magnitude of vector\n",
    "        amp = (np.dot(vector, vector))**0.5\n",
    "        \n",
    "        #Normalize\n",
    "        normalized_vector = vector/amp\n",
    "        \n",
    "        return normalized_vector\n",
    "    \n",
    "    #Define function that converts from index to x, y, or z coordinate\n",
    "    #Should work with an array index (x,y,z), but I've only tested with 1 value at a time\n",
    "    def index2coord(index, space, delta_x):\n",
    "        #Get the dimensions of space\n",
    "        dim = space.shape\n",
    "        \n",
    "        #Calculate index of the origin\n",
    "        origin_index = np.divide(np.subtract(dim, 1), 2)\n",
    "        \n",
    "        #Calculate distance between given index and origin\n",
    "        index_spacing = np.subtract(index, origin_index)\n",
    "    \n",
    "        #Convert index_spacing into nanometers\n",
    "        coord = np.multiply(delta_x, index_spacing)\n",
    "\n",
    "        return coord, index_spacing\n",
    "    \n",
    "    #Define function that converts from (x,y,z) coordinates to index\n",
    "    #Should work with an array index (x,y,z), but I've only tested with 1 value at a time\n",
    "    def coord2index(coordinates, space, delta_x):\n",
    "        #Get the dimensions of space\n",
    "        dim = space.shape\n",
    "        \n",
    "        #Convert from nm to index distance\n",
    "        index_spacing = np.divide(coordinates, delta_x)\n",
    "        \n",
    "        #Calculate index of the origin\n",
    "        origin_index = np.divide(np.subtract(dim, 1), 2)\n",
    "        \n",
    "        #Calculate the index\n",
    "        index = np.add(origin_index, index_spacing)\n",
    "        \n",
    "        return index"
   ]
  },
  {
   "cell_type": "code",
   "execution_count": null,
   "metadata": {},
   "outputs": [],
   "source": []
  }
 ],
 "metadata": {
  "kernelspec": {
   "display_name": "Python 3",
   "language": "python",
   "name": "python3"
  },
  "language_info": {
   "codemirror_mode": {
    "name": "ipython",
    "version": 3
   },
   "file_extension": ".py",
   "mimetype": "text/x-python",
   "name": "python",
   "nbconvert_exporter": "python",
   "pygments_lexer": "ipython3",
   "version": "3.6.2"
  }
 },
 "nbformat": 4,
 "nbformat_minor": 2
}

