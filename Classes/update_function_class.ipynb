{
 "cells": [
  {
   "cell_type": "code",
   "execution_count": null,
   "metadata": {},
   "outputs": [],
   "source": [
    "import numpy as np\n",
    "from scipy import constants as cst\n",
    "#Import general functions as gf"
   ]
  },
  {
   "cell_type": "code",
   "execution_count": null,
   "metadata": {},
   "outputs": [],
   "source": [
    "class update_function:\n",
    "    #These functions don't current take into account conductivities\n",
    "    #Define function that updates the E field\n",
    "    def update_E(prev_E, H, delta_x, delta_t, source):\n",
    "        #Calculate the curl of the H field\n",
    "        curl_H = gf.curl(H, delta_x)\n",
    "        \n",
    "        #Calculate the constant that the curl is multiplied by in the update eq'n\n",
    "        const = delta_t/(cst.constant('electric constant')*(10**9))\n",
    "        \n",
    "        #Calculate the new E values\n",
    "        E = np.add(prev_E, np.multiply(const, curl_H))\n",
    "        \n",
    "        #Go thru boundaries and implement boundary conditions\n",
    "        \n",
    "        return E\n",
    "                \n",
    "    #Define function that updates the H field\n",
    "    def update_H(prev_H, E, delta_x, delta_t, source):\n",
    "        #Calculate the curl of the E field\n",
    "        curl_E = gf.curl(E, delta_x)\n",
    "        \n",
    "        #Get the dimension of the space\n",
    "        dim = E.shape\n",
    "        \n",
    "        #Due to the way we defined where the H values are stored (a +delta_x/2 step in the\n",
    "        # x and y direction) we actually calculated the curl at the (i+1, j+1) index\n",
    "        #We will now realign this by moving the bottom row to the top then the last column\n",
    "        #to the front\n",
    "        fix_row = np.vsplit(curl_E, [dim[0]-1])\n",
    "        curl_E = np.append(fix_row[1], fix_row[0], axis = 0)\n",
    "        \n",
    "        fix_column = np.hsplit(curl_E, [dim[1]-1])\n",
    "        curl_E = np.append(fix_column[1], fix_column[0], axis = 1)\n",
    "        \n",
    "        \n",
    "        #Calculate the constant that the curl is multiplied by in the update eq'n\n",
    "        const = delta_t/(cst.constants('mag. constant')*(10**-9))\n",
    "        \n",
    "        #Calculate the new H values\n",
    "        H = np.add(prev_H, np.multiply(const, curl_E))\n",
    "        \n",
    "        #Go thru boundaries and implement boundary conditions\n",
    "        \n",
    "        return H"
   ]
  }
 ],
 "metadata": {
  "kernelspec": {
   "display_name": "Python 3",
   "language": "python",
   "name": "python3"
  },
  "language_info": {
   "codemirror_mode": {
    "name": "ipython",
    "version": 3
   },
   "file_extension": ".py",
   "mimetype": "text/x-python",
   "name": "python",
   "nbconvert_exporter": "python",
   "pygments_lexer": "ipython3",
   "version": "3.6.2"
  }
 },
 "nbformat": 4,
 "nbformat_minor": 2
}
